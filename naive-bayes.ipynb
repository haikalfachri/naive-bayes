{
  "nbformat": 4,
  "nbformat_minor": 0,
  "metadata": {
    "colab": {
      "name": "Tupro3_NaiveBayes_Kelompok7_IF4401.ipynb",
      "provenance": []
    },
    "kernelspec": {
      "name": "python3",
      "display_name": "Python 3"
    },
    "language_info": {
      "name": "python"
    }
  },
  "cells": [
    {
      "cell_type": "markdown",
      "source": [
        "Library"
      ],
      "metadata": {
        "id": "G4q-GL0wVrqo"
      }
    },
    {
      "cell_type": "code",
      "source": [
        "# Importing Library\n",
        "import math\n",
        "import pandas as pd"
      ],
      "metadata": {
        "id": "H-2MK68LVuf6"
      },
      "execution_count": null,
      "outputs": []
    },
    {
      "cell_type": "markdown",
      "source": [
        "Training"
      ],
      "metadata": {
        "id": "XznNd_FfWrBo"
      }
    },
    {
      "cell_type": "code",
      "source": [
        "# Kelompokkan setiap baris data sesuai kelas output 1 atau 0\n",
        "# menggunakan dictionary untuk setiap baris data \n",
        "# Output dijadikan key, Setiap baris data dijadikan value\n",
        "# ex group = {1: ([60, 64, 0, 1], ...), 0: ([54, 60, 11, 0], ...)}\n",
        "def groupByKelas(data):\n",
        "      group = {}\n",
        "      for i in range(len(data)):\n",
        "          if (data[i][-1] not in group):\n",
        "              group[data[i][-1]] = []\n",
        "          group[data[i][-1]].append(data[i])\n",
        "      return group\n",
        "\n",
        "# Hitung Mean\n",
        "def mean(list_angka):\n",
        "    return sum(list_angka) / float(len(list_angka))\n",
        "  \n",
        "# Hitung Standar Deviasi atau Simpangan Baku\n",
        "def std_dev(list_angka):\n",
        "    rata2 = mean(list_angka)\n",
        "    # Varians = (Standar Deviasi)^2 -> Standar Devisasi = Akar(Varians)\n",
        "    varians = sum([pow(angka - rata2, 2) for angka in list_angka]) / float(len(list_angka) - 1)\n",
        "    return math.sqrt(varians)\n",
        "\n",
        "def MeanAndStdDev(data):\n",
        "    info = [(mean(atribut), std_dev(atribut)) for atribut in zip(*data)]\n",
        "    # ex: list = [ [a, b, c,..], [m, n, o,..], [x, y, z,..]]\n",
        "    # ex Mean: Untuk atribut pertama =(a+m+x)/3, mean of atribut kedua = (b+n+y)/3, dst..\n",
        "    # Delete Summaries Untuk Index Terakhir Karena Merupakan Output\n",
        "    del info[-1]\n",
        "    return info\n",
        "\n",
        "# Hitung Mean and Standard Deviasi Setiap Atribut Berdasarkan output\n",
        "# Untuk Membuat Model Training\n",
        "def createModel(data):\n",
        "    # Model adalah Hasil dari Training Data \n",
        "    # Isi Model adalah Mean dan Std Deviasi setiap atribut berdasarkan output 0 atau 1\n",
        "    model = {}\n",
        "    group = groupByKelas(data)\n",
        "    for output, data in group.items():\n",
        "        model[output] = MeanAndStdDev(data)\n",
        "    return model\n"
      ],
      "metadata": {
        "id": "9RWKZNO2WKLx"
      },
      "execution_count": null,
      "outputs": []
    },
    {
      "cell_type": "markdown",
      "source": [
        "Testing"
      ],
      "metadata": {
        "id": "FKG-y5LhWJ3g"
      }
    },
    {
      "cell_type": "code",
      "source": [
        "# Hitung Peluang Gaussian atau Distribusi Normal\n",
        "def hitungProbabilitasGaussian(x, mean, stdev):\n",
        "    exponen = math.exp(-(math.pow(x - mean, 2) / (2 * math.pow(stdev, 2))))\n",
        "    return (1 / (math.sqrt(2 * math.pi) * stdev)) * exponen\n",
        "\n",
        "# Hitung Probabilitas Setiap Kelas Output 0 dan 1\n",
        "def hitungProbabilitasKelas(model, test):\n",
        "    probabilitas = {}\n",
        "    for output, classSummaries in model.items():\n",
        "        probabilitas[output] = 1\n",
        "        # Perhitungan Peluang Gaussian\n",
        "        for i in range(len(classSummaries)):\n",
        "            mean, std_dev = classSummaries[i]\n",
        "            x = test[i]\n",
        "            probabilitas[output] *= hitungProbabilitasGaussian(x, mean, std_dev)\n",
        "    return probabilitas\n",
        "\n",
        "# Membuat Prediksi \n",
        "def prediksi(model, test):\n",
        "    probabilitas = hitungProbabilitasKelas(model, test)\n",
        "    bestLabel = None\n",
        "    bestProb = -1\n",
        "    for output, prob in probabilitas.items():\n",
        "        # Probabilitas Tertinggi Menjadi Prediksi\n",
        "        if bestLabel is None or prob > bestProb:\n",
        "            bestProb = prob\n",
        "            bestLabel = output\n",
        "    return bestLabel\n",
        "\n",
        "# Prediksi Output Untuk Data Testing\n",
        "def prediksiOutput(model, test):\n",
        "    prediksiOutput = []\n",
        "    for i in range(len(test)):\n",
        "        result = prediksi(model, test[i])\n",
        "        prediksiOutput.append(result)\n",
        "    return prediksiOutput"
      ],
      "metadata": {
        "id": "Cr8Ow1u1WOBN"
      },
      "execution_count": null,
      "outputs": []
    },
    {
      "cell_type": "markdown",
      "source": [
        "Evaluasi"
      ],
      "metadata": {
        "id": "ZzT3oJJ8W2nC"
      }
    },
    {
      "cell_type": "code",
      "source": [
        "# Evaluasi - Cek Akurasi\n",
        "def tesAkurasi(test, prediksiOutput):\n",
        "    correct = 0\n",
        "    for i in range(len(test)):\n",
        "        if test[i][-1] == prediksiOutput[i]:\n",
        "            correct += 1\n",
        "    return (correct / float(len(test))) * 100.0"
      ],
      "metadata": {
        "id": "Dg8fkjD9W1ZK"
      },
      "execution_count": null,
      "outputs": []
    },
    {
      "cell_type": "markdown",
      "source": [
        "Main Program / Driver Code"
      ],
      "metadata": {
        "id": "D4bh0uyJW5h4"
      }
    },
    {
      "cell_type": "code",
      "source": [
        "# Main Program\n",
        "\n",
        "# Read Excel File\n",
        "data_file = pd.ExcelFile(r'traintest.xlsx')\n",
        "\n",
        "# Training\n",
        "# Load Excel File Untuk Data Training\n",
        "train_file = pd.read_excel(data_file, 'train')\n",
        "# Taruh setiap baris data training pada list train_data\n",
        "train_data = pd.DataFrame(train_file, columns = ['x1', 'x2', 'x3', 'y'])\n",
        "train_data = train_data.values\n",
        "# Ubah setiap value data menjadi bilangan real\n",
        "for i in range(len(train_data)):\n",
        "    train_data[i] = [float(data) for data in train_data[i]]\n",
        "# Simpan Model Hasil Training\n",
        "model = createModel(train_data)\n",
        "# Print Model Training\n",
        "print(\"=======================Hasil Training========================\")\n",
        "for output, mean_stdDev in model.items():\n",
        "  for i in range(3):\n",
        "    print(\"(Mean, StdDev) x{} C{}: {}\".format(i+1, output, mean_stdDev[i]))\n",
        "print(\"=======================Evaluasi Model========================\")\n",
        "\n",
        "# Evaluasi Model\n",
        "eval_data = train_data\n",
        "hasil = prediksiOutput(model, eval_data)\n",
        "akurasi = tesAkurasi(eval_data, hasil)\n",
        "print(\"Akurasi Model Training: \", akurasi)\n",
        "\n",
        "# Testing\n",
        "# Load Excel File Untuk Data Testing\n",
        "test_file = pd.read_excel(data_file, 'test')\n",
        "# Taruh setiap baris data testing pada list test_data\n",
        "test_data = pd.DataFrame(test_file, columns = ['x1', 'x2', 'x3', 'y'])\n",
        "# Ganti value pada kolom y dari '?' menjadi -1 agar tidak error\n",
        "test_data['y'].replace({'?' : -1}, inplace=True)\n",
        "test_data = test_data.values\n",
        "# Ubah setiap value data menjadi bilangan real\n",
        "for i in range(len(test_data)):\n",
        "    test_data[i] = [float(data) for data in test_data[i]]\n",
        "\n",
        "print(\"=========================Info Data===========================\")\n",
        "# Total Keseluruhan Data\n",
        "print('Data Total   : ', len(train_data) + len(test_data))\n",
        "# Total Data Training\n",
        "print('Data Training: ', len(train_data))\n",
        "# Total Data Testing\n",
        "print(\"Data Testing : \", len(test_data))\n",
        "\n",
        "# Hasil Testing Model\n",
        "hasil = prediksiOutput(model, test_data)\n",
        "print(\"========================Hasil Testing========================\")\n",
        "print(\"Hasil Prediksi: \")\n",
        "test_data = pd.DataFrame(test_file, columns = ['x1', 'x2', 'x3', 'y'])\n",
        "test_data = test_data.values\n",
        "for i in range(len(test_data)):\n",
        "    print(\"[{}]\".format(i+1), test_data[i], \": \", hasil[i])\n",
        "print(\"========================Output File=========================\")\n",
        "\n",
        "# Simpan Output ke File\n",
        "result = {}\n",
        "id_dan_atribut = pd.DataFrame(test_file, columns = ['id', 'x1', 'x2', 'x3'])\n",
        "id_dan_atribut.values\n",
        "result['id'] = id_dan_atribut['id']\n",
        "result['x1'] = id_dan_atribut['x1']\n",
        "result['x2'] = id_dan_atribut['x2']\n",
        "result['x3'] = id_dan_atribut['x3']\n",
        "result['y'] = hasil\n",
        "result = pd.DataFrame(result, columns = ['id', 'x1', 'x2', 'x3', 'y'])\n",
        "print(result)\n",
        "result.to_excel('result.xlsx', sheet_name = 'result', index = False)"
      ],
      "metadata": {
        "colab": {
          "base_uri": "https://localhost:8080/"
        },
        "id": "QE5XSYqJW8az",
        "outputId": "4ea1b621-5f59-4c57-81f1-a2f62e37b7f1"
      },
      "execution_count": null,
      "outputs": [
        {
          "output_type": "stream",
          "name": "stdout",
          "text": [
            "=======================Hasil Training========================\n",
            "(Mean, StdDev) x1 C1: (51.93577981651376, 11.110484299554663)\n",
            "(Mean, StdDev) x2 C1: (62.92660550458716, 3.222062258631095)\n",
            "(Mean, StdDev) x3 C1: (2.8394495412844036, 5.953499042384458)\n",
            "(Mean, StdDev) x1 C0: (53.93589743589744, 10.198471675149396)\n",
            "(Mean, StdDev) x2 C0: (62.756410256410255, 3.2839076241650407)\n",
            "(Mean, StdDev) x3 C0: (7.666666666666667, 9.296929623961898)\n",
            "=======================Evaluasi Model========================\n",
            "Akurasi Model Training:  76.35135135135135\n",
            "=========================Info Data===========================\n",
            "Data Total   :  306\n",
            "Data Training:  296\n",
            "Data Testing :  10\n",
            "========================Hasil Testing========================\n",
            "Hasil Prediksi: \n",
            "[1] [43 59 2 '?'] :  1\n",
            "[2] [67 66 0 '?'] :  1\n",
            "[3] [58 60 3 '?'] :  1\n",
            "[4] [49 63 3 '?'] :  1\n",
            "[5] [45 60 0 '?'] :  1\n",
            "[6] [54 58 1 '?'] :  1\n",
            "[7] [56 66 3 '?'] :  1\n",
            "[8] [42 69 1 '?'] :  1\n",
            "[9] [50 59 2 '?'] :  1\n",
            "[10] [59 60 0 '?'] :  1\n",
            "========================Output File=========================\n",
            "    id  x1  x2  x3  y\n",
            "0  297  43  59   2  1\n",
            "1  298  67  66   0  1\n",
            "2  299  58  60   3  1\n",
            "3  300  49  63   3  1\n",
            "4  301  45  60   0  1\n",
            "5  302  54  58   1  1\n",
            "6  303  56  66   3  1\n",
            "7  304  42  69   1  1\n",
            "8  305  50  59   2  1\n",
            "9  306  59  60   0  1\n"
          ]
        }
      ]
    }
  ]
}